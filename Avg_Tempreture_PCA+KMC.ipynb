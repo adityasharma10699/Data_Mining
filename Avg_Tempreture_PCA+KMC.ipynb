{
  "nbformat": 4,
  "nbformat_minor": 0,
  "metadata": {
    "colab": {
      "provenance": [],
      "mount_file_id": "1gYR_XAo-psw_tquqSaHlzpNtfHvzFugg",
      "authorship_tag": "ABX9TyPDn5tSE5ioEMiF3d3HH0c6",
      "include_colab_link": true
    },
    "kernelspec": {
      "name": "python3",
      "display_name": "Python 3"
    },
    "language_info": {
      "name": "python"
    }
  },
  "cells": [
    {
      "cell_type": "markdown",
      "metadata": {
        "id": "view-in-github",
        "colab_type": "text"
      },
      "source": [
        "<a href=\"https://colab.research.google.com/github/adityasharma10699/Data_Mining/blob/main/Avg_Tempreture_PCA%2BKMC.ipynb\" target=\"_parent\"><img src=\"https://colab.research.google.com/assets/colab-badge.svg\" alt=\"Open In Colab\"/></a>"
      ]
    },
    {
      "cell_type": "code",
      "execution_count": 76,
      "metadata": {
        "id": "ImNsuQWRgOi5"
      },
      "outputs": [],
      "source": []
    },
    {
      "cell_type": "code",
      "source": [
        "from google.colab import drive\n",
        "drive.mount('/content/drive')"
      ],
      "metadata": {
        "colab": {
          "base_uri": "https://localhost:8080/"
        },
        "id": "XAyqBLeHjQde",
        "outputId": "2f8db812-7809-44d7-9d93-c54acb949e77"
      },
      "execution_count": 77,
      "outputs": [
        {
          "output_type": "stream",
          "name": "stdout",
          "text": [
            "Drive already mounted at /content/drive; to attempt to forcibly remount, call drive.mount(\"/content/drive\", force_remount=True).\n"
          ]
        }
      ]
    },
    {
      "cell_type": "code",
      "source": [
        "import pandas as pd\n",
        "import numpy as np\n",
        "from sklearn.preprocessing import StandardScaler\n",
        "from sklearn.decomposition import PCA\n",
        "import matplotlib.pyplot as plt\n",
        "import plotly.graph_objs as go\n",
        "import plotly.figure_factory as ff\n",
        "from sklearn.cluster import KMeans, DBSCAN\n",
        "from sklearn.datasets import make_moons\n",
        "import warnings\n",
        "warnings.filterwarnings(\"ignore\", category=FutureWarning)"
      ],
      "metadata": {
        "id": "tlsOpY3hjWMU"
      },
      "execution_count": 78,
      "outputs": []
    },
    {
      "cell_type": "code",
      "source": [
        "df = pd.read_csv('/content/drive/MyDrive/Data Mining/Class work/Week 8 and later/Avg_Temperatures.csv')"
      ],
      "metadata": {
        "id": "xTd5V0uYjbcS"
      },
      "execution_count": 79,
      "outputs": []
    },
    {
      "cell_type": "code",
      "source": [
        "df.info()"
      ],
      "metadata": {
        "colab": {
          "base_uri": "https://localhost:8080/"
        },
        "id": "npeSNr0yjqyt",
        "outputId": "2513cece-c88f-4ba7-eecd-34c1fa7c2b19"
      },
      "execution_count": 80,
      "outputs": [
        {
          "output_type": "stream",
          "name": "stdout",
          "text": [
            "<class 'pandas.core.frame.DataFrame'>\n",
            "RangeIndex: 93 entries, 0 to 92\n",
            "Data columns (total 13 columns):\n",
            " #   Column     Non-Null Count  Dtype  \n",
            "---  ------     --------------  -----  \n",
            " 0   Regions    93 non-null     object \n",
            " 1   April      93 non-null     float64\n",
            " 2   August     93 non-null     float64\n",
            " 3   December   93 non-null     float64\n",
            " 4   February   93 non-null     float64\n",
            " 5   January    93 non-null     float64\n",
            " 6   July       93 non-null     float64\n",
            " 7   June       93 non-null     float64\n",
            " 8   March      93 non-null     float64\n",
            " 9   May        93 non-null     float64\n",
            " 10  November   93 non-null     float64\n",
            " 11  October    93 non-null     float64\n",
            " 12  September  93 non-null     float64\n",
            "dtypes: float64(12), object(1)\n",
            "memory usage: 9.6+ KB\n"
          ]
        }
      ]
    },
    {
      "cell_type": "code",
      "source": [
        "df"
      ],
      "metadata": {
        "colab": {
          "base_uri": "https://localhost:8080/",
          "height": 423
        },
        "id": "P-06rmHQjuFN",
        "outputId": "4dcec03c-4188-4a4b-8c99-5095e8c50895"
      },
      "execution_count": 81,
      "outputs": [
        {
          "output_type": "execute_result",
          "data": {
            "text/plain": [
              "                    Regions  April  August  December  February  January  \\\n",
              "0                       Ain  12.29   19.03      5.95      2.93     5.35   \n",
              "1                     Aisne  13.35   21.57     11.12      9.29     8.57   \n",
              "2                    Allier  17.99   25.19      8.72      6.64     9.09   \n",
              "3   Alpes-de-Haute-Provence  11.99   20.20      6.69      3.90     6.18   \n",
              "4           Alpes-Maritimes  12.08   23.63      7.48      7.42     5.65   \n",
              "..                      ...    ...     ...       ...       ...      ...   \n",
              "88                   Vendee  11.88   17.54     10.38      8.19     7.74   \n",
              "89                   Vienne  14.16   20.91     12.97     11.33    12.05   \n",
              "90                   Vosges  10.85   18.98      5.24      3.01     4.98   \n",
              "91                    Yonne  15.03   25.25      8.92      8.75     8.29   \n",
              "92                 Yvelines  12.85   21.54     11.96      8.41    10.79   \n",
              "\n",
              "     July   June  March    May  November  October  September  \n",
              "0   20.84  18.54   6.87  13.82      7.47    11.92      15.93  \n",
              "1   21.50  20.76  10.78  15.26     12.62    16.51      19.75  \n",
              "2   26.38  26.19  12.22  20.92     11.48    19.51      22.47  \n",
              "3   21.09  18.29   7.61  13.31      8.32    11.90      16.58  \n",
              "4   23.73  21.63   8.61  16.06     10.44    14.59      21.68  \n",
              "..    ...    ...    ...    ...       ...      ...        ...  \n",
              "88  18.52  16.58   9.61  14.11     11.41    15.54      17.84  \n",
              "89  23.60  21.09  13.37  16.01     11.76    18.55      21.39  \n",
              "90  20.29  19.48   6.90  14.36      6.00    12.53      14.90  \n",
              "91  28.31  23.29  13.04  18.81     11.73    18.18      22.56  \n",
              "92  23.05  22.11  13.04  17.15     12.78    16.33      18.95  \n",
              "\n",
              "[93 rows x 13 columns]"
            ],
            "text/html": [
              "\n",
              "\n",
              "  <div id=\"df-d41aad6f-2da3-4c7f-8c97-73f446cec390\">\n",
              "    <div class=\"colab-df-container\">\n",
              "      <div>\n",
              "<style scoped>\n",
              "    .dataframe tbody tr th:only-of-type {\n",
              "        vertical-align: middle;\n",
              "    }\n",
              "\n",
              "    .dataframe tbody tr th {\n",
              "        vertical-align: top;\n",
              "    }\n",
              "\n",
              "    .dataframe thead th {\n",
              "        text-align: right;\n",
              "    }\n",
              "</style>\n",
              "<table border=\"1\" class=\"dataframe\">\n",
              "  <thead>\n",
              "    <tr style=\"text-align: right;\">\n",
              "      <th></th>\n",
              "      <th>Regions</th>\n",
              "      <th>April</th>\n",
              "      <th>August</th>\n",
              "      <th>December</th>\n",
              "      <th>February</th>\n",
              "      <th>January</th>\n",
              "      <th>July</th>\n",
              "      <th>June</th>\n",
              "      <th>March</th>\n",
              "      <th>May</th>\n",
              "      <th>November</th>\n",
              "      <th>October</th>\n",
              "      <th>September</th>\n",
              "    </tr>\n",
              "  </thead>\n",
              "  <tbody>\n",
              "    <tr>\n",
              "      <th>0</th>\n",
              "      <td>Ain</td>\n",
              "      <td>12.29</td>\n",
              "      <td>19.03</td>\n",
              "      <td>5.95</td>\n",
              "      <td>2.93</td>\n",
              "      <td>5.35</td>\n",
              "      <td>20.84</td>\n",
              "      <td>18.54</td>\n",
              "      <td>6.87</td>\n",
              "      <td>13.82</td>\n",
              "      <td>7.47</td>\n",
              "      <td>11.92</td>\n",
              "      <td>15.93</td>\n",
              "    </tr>\n",
              "    <tr>\n",
              "      <th>1</th>\n",
              "      <td>Aisne</td>\n",
              "      <td>13.35</td>\n",
              "      <td>21.57</td>\n",
              "      <td>11.12</td>\n",
              "      <td>9.29</td>\n",
              "      <td>8.57</td>\n",
              "      <td>21.50</td>\n",
              "      <td>20.76</td>\n",
              "      <td>10.78</td>\n",
              "      <td>15.26</td>\n",
              "      <td>12.62</td>\n",
              "      <td>16.51</td>\n",
              "      <td>19.75</td>\n",
              "    </tr>\n",
              "    <tr>\n",
              "      <th>2</th>\n",
              "      <td>Allier</td>\n",
              "      <td>17.99</td>\n",
              "      <td>25.19</td>\n",
              "      <td>8.72</td>\n",
              "      <td>6.64</td>\n",
              "      <td>9.09</td>\n",
              "      <td>26.38</td>\n",
              "      <td>26.19</td>\n",
              "      <td>12.22</td>\n",
              "      <td>20.92</td>\n",
              "      <td>11.48</td>\n",
              "      <td>19.51</td>\n",
              "      <td>22.47</td>\n",
              "    </tr>\n",
              "    <tr>\n",
              "      <th>3</th>\n",
              "      <td>Alpes-de-Haute-Provence</td>\n",
              "      <td>11.99</td>\n",
              "      <td>20.20</td>\n",
              "      <td>6.69</td>\n",
              "      <td>3.90</td>\n",
              "      <td>6.18</td>\n",
              "      <td>21.09</td>\n",
              "      <td>18.29</td>\n",
              "      <td>7.61</td>\n",
              "      <td>13.31</td>\n",
              "      <td>8.32</td>\n",
              "      <td>11.90</td>\n",
              "      <td>16.58</td>\n",
              "    </tr>\n",
              "    <tr>\n",
              "      <th>4</th>\n",
              "      <td>Alpes-Maritimes</td>\n",
              "      <td>12.08</td>\n",
              "      <td>23.63</td>\n",
              "      <td>7.48</td>\n",
              "      <td>7.42</td>\n",
              "      <td>5.65</td>\n",
              "      <td>23.73</td>\n",
              "      <td>21.63</td>\n",
              "      <td>8.61</td>\n",
              "      <td>16.06</td>\n",
              "      <td>10.44</td>\n",
              "      <td>14.59</td>\n",
              "      <td>21.68</td>\n",
              "    </tr>\n",
              "    <tr>\n",
              "      <th>...</th>\n",
              "      <td>...</td>\n",
              "      <td>...</td>\n",
              "      <td>...</td>\n",
              "      <td>...</td>\n",
              "      <td>...</td>\n",
              "      <td>...</td>\n",
              "      <td>...</td>\n",
              "      <td>...</td>\n",
              "      <td>...</td>\n",
              "      <td>...</td>\n",
              "      <td>...</td>\n",
              "      <td>...</td>\n",
              "      <td>...</td>\n",
              "    </tr>\n",
              "    <tr>\n",
              "      <th>88</th>\n",
              "      <td>Vendee</td>\n",
              "      <td>11.88</td>\n",
              "      <td>17.54</td>\n",
              "      <td>10.38</td>\n",
              "      <td>8.19</td>\n",
              "      <td>7.74</td>\n",
              "      <td>18.52</td>\n",
              "      <td>16.58</td>\n",
              "      <td>9.61</td>\n",
              "      <td>14.11</td>\n",
              "      <td>11.41</td>\n",
              "      <td>15.54</td>\n",
              "      <td>17.84</td>\n",
              "    </tr>\n",
              "    <tr>\n",
              "      <th>89</th>\n",
              "      <td>Vienne</td>\n",
              "      <td>14.16</td>\n",
              "      <td>20.91</td>\n",
              "      <td>12.97</td>\n",
              "      <td>11.33</td>\n",
              "      <td>12.05</td>\n",
              "      <td>23.60</td>\n",
              "      <td>21.09</td>\n",
              "      <td>13.37</td>\n",
              "      <td>16.01</td>\n",
              "      <td>11.76</td>\n",
              "      <td>18.55</td>\n",
              "      <td>21.39</td>\n",
              "    </tr>\n",
              "    <tr>\n",
              "      <th>90</th>\n",
              "      <td>Vosges</td>\n",
              "      <td>10.85</td>\n",
              "      <td>18.98</td>\n",
              "      <td>5.24</td>\n",
              "      <td>3.01</td>\n",
              "      <td>4.98</td>\n",
              "      <td>20.29</td>\n",
              "      <td>19.48</td>\n",
              "      <td>6.90</td>\n",
              "      <td>14.36</td>\n",
              "      <td>6.00</td>\n",
              "      <td>12.53</td>\n",
              "      <td>14.90</td>\n",
              "    </tr>\n",
              "    <tr>\n",
              "      <th>91</th>\n",
              "      <td>Yonne</td>\n",
              "      <td>15.03</td>\n",
              "      <td>25.25</td>\n",
              "      <td>8.92</td>\n",
              "      <td>8.75</td>\n",
              "      <td>8.29</td>\n",
              "      <td>28.31</td>\n",
              "      <td>23.29</td>\n",
              "      <td>13.04</td>\n",
              "      <td>18.81</td>\n",
              "      <td>11.73</td>\n",
              "      <td>18.18</td>\n",
              "      <td>22.56</td>\n",
              "    </tr>\n",
              "    <tr>\n",
              "      <th>92</th>\n",
              "      <td>Yvelines</td>\n",
              "      <td>12.85</td>\n",
              "      <td>21.54</td>\n",
              "      <td>11.96</td>\n",
              "      <td>8.41</td>\n",
              "      <td>10.79</td>\n",
              "      <td>23.05</td>\n",
              "      <td>22.11</td>\n",
              "      <td>13.04</td>\n",
              "      <td>17.15</td>\n",
              "      <td>12.78</td>\n",
              "      <td>16.33</td>\n",
              "      <td>18.95</td>\n",
              "    </tr>\n",
              "  </tbody>\n",
              "</table>\n",
              "<p>93 rows × 13 columns</p>\n",
              "</div>\n",
              "      <button class=\"colab-df-convert\" onclick=\"convertToInteractive('df-d41aad6f-2da3-4c7f-8c97-73f446cec390')\"\n",
              "              title=\"Convert this dataframe to an interactive table.\"\n",
              "              style=\"display:none;\">\n",
              "\n",
              "  <svg xmlns=\"http://www.w3.org/2000/svg\" height=\"24px\"viewBox=\"0 0 24 24\"\n",
              "       width=\"24px\">\n",
              "    <path d=\"M0 0h24v24H0V0z\" fill=\"none\"/>\n",
              "    <path d=\"M18.56 5.44l.94 2.06.94-2.06 2.06-.94-2.06-.94-.94-2.06-.94 2.06-2.06.94zm-11 1L8.5 8.5l.94-2.06 2.06-.94-2.06-.94L8.5 2.5l-.94 2.06-2.06.94zm10 10l.94 2.06.94-2.06 2.06-.94-2.06-.94-.94-2.06-.94 2.06-2.06.94z\"/><path d=\"M17.41 7.96l-1.37-1.37c-.4-.4-.92-.59-1.43-.59-.52 0-1.04.2-1.43.59L10.3 9.45l-7.72 7.72c-.78.78-.78 2.05 0 2.83L4 21.41c.39.39.9.59 1.41.59.51 0 1.02-.2 1.41-.59l7.78-7.78 2.81-2.81c.8-.78.8-2.07 0-2.86zM5.41 20L4 18.59l7.72-7.72 1.47 1.35L5.41 20z\"/>\n",
              "  </svg>\n",
              "      </button>\n",
              "\n",
              "\n",
              "\n",
              "    <div id=\"df-290911ee-741c-4b4f-a2e0-4fe103c19bee\">\n",
              "      <button class=\"colab-df-quickchart\" onclick=\"quickchart('df-290911ee-741c-4b4f-a2e0-4fe103c19bee')\"\n",
              "              title=\"Suggest charts.\"\n",
              "              style=\"display:none;\">\n",
              "\n",
              "<svg xmlns=\"http://www.w3.org/2000/svg\" height=\"24px\"viewBox=\"0 0 24 24\"\n",
              "     width=\"24px\">\n",
              "    <g>\n",
              "        <path d=\"M19 3H5c-1.1 0-2 .9-2 2v14c0 1.1.9 2 2 2h14c1.1 0 2-.9 2-2V5c0-1.1-.9-2-2-2zM9 17H7v-7h2v7zm4 0h-2V7h2v10zm4 0h-2v-4h2v4z\"/>\n",
              "    </g>\n",
              "</svg>\n",
              "      </button>\n",
              "    </div>\n",
              "\n",
              "<style>\n",
              "  .colab-df-quickchart {\n",
              "    background-color: #E8F0FE;\n",
              "    border: none;\n",
              "    border-radius: 50%;\n",
              "    cursor: pointer;\n",
              "    display: none;\n",
              "    fill: #1967D2;\n",
              "    height: 32px;\n",
              "    padding: 0 0 0 0;\n",
              "    width: 32px;\n",
              "  }\n",
              "\n",
              "  .colab-df-quickchart:hover {\n",
              "    background-color: #E2EBFA;\n",
              "    box-shadow: 0px 1px 2px rgba(60, 64, 67, 0.3), 0px 1px 3px 1px rgba(60, 64, 67, 0.15);\n",
              "    fill: #174EA6;\n",
              "  }\n",
              "\n",
              "  [theme=dark] .colab-df-quickchart {\n",
              "    background-color: #3B4455;\n",
              "    fill: #D2E3FC;\n",
              "  }\n",
              "\n",
              "  [theme=dark] .colab-df-quickchart:hover {\n",
              "    background-color: #434B5C;\n",
              "    box-shadow: 0px 1px 3px 1px rgba(0, 0, 0, 0.15);\n",
              "    filter: drop-shadow(0px 1px 2px rgba(0, 0, 0, 0.3));\n",
              "    fill: #FFFFFF;\n",
              "  }\n",
              "</style>\n",
              "\n",
              "    <script>\n",
              "      async function quickchart(key) {\n",
              "        const containerElement = document.querySelector('#' + key);\n",
              "        const charts = await google.colab.kernel.invokeFunction(\n",
              "            'suggestCharts', [key], {});\n",
              "      }\n",
              "    </script>\n",
              "\n",
              "      <script>\n",
              "\n",
              "function displayQuickchartButton(domScope) {\n",
              "  let quickchartButtonEl =\n",
              "    domScope.querySelector('#df-290911ee-741c-4b4f-a2e0-4fe103c19bee button.colab-df-quickchart');\n",
              "  quickchartButtonEl.style.display =\n",
              "    google.colab.kernel.accessAllowed ? 'block' : 'none';\n",
              "}\n",
              "\n",
              "        displayQuickchartButton(document);\n",
              "      </script>\n",
              "      <style>\n",
              "    .colab-df-container {\n",
              "      display:flex;\n",
              "      flex-wrap:wrap;\n",
              "      gap: 12px;\n",
              "    }\n",
              "\n",
              "    .colab-df-convert {\n",
              "      background-color: #E8F0FE;\n",
              "      border: none;\n",
              "      border-radius: 50%;\n",
              "      cursor: pointer;\n",
              "      display: none;\n",
              "      fill: #1967D2;\n",
              "      height: 32px;\n",
              "      padding: 0 0 0 0;\n",
              "      width: 32px;\n",
              "    }\n",
              "\n",
              "    .colab-df-convert:hover {\n",
              "      background-color: #E2EBFA;\n",
              "      box-shadow: 0px 1px 2px rgba(60, 64, 67, 0.3), 0px 1px 3px 1px rgba(60, 64, 67, 0.15);\n",
              "      fill: #174EA6;\n",
              "    }\n",
              "\n",
              "    [theme=dark] .colab-df-convert {\n",
              "      background-color: #3B4455;\n",
              "      fill: #D2E3FC;\n",
              "    }\n",
              "\n",
              "    [theme=dark] .colab-df-convert:hover {\n",
              "      background-color: #434B5C;\n",
              "      box-shadow: 0px 1px 3px 1px rgba(0, 0, 0, 0.15);\n",
              "      filter: drop-shadow(0px 1px 2px rgba(0, 0, 0, 0.3));\n",
              "      fill: #FFFFFF;\n",
              "    }\n",
              "  </style>\n",
              "\n",
              "      <script>\n",
              "        const buttonEl =\n",
              "          document.querySelector('#df-d41aad6f-2da3-4c7f-8c97-73f446cec390 button.colab-df-convert');\n",
              "        buttonEl.style.display =\n",
              "          google.colab.kernel.accessAllowed ? 'block' : 'none';\n",
              "\n",
              "        async function convertToInteractive(key) {\n",
              "          const element = document.querySelector('#df-d41aad6f-2da3-4c7f-8c97-73f446cec390');\n",
              "          const dataTable =\n",
              "            await google.colab.kernel.invokeFunction('convertToInteractive',\n",
              "                                                     [key], {});\n",
              "          if (!dataTable) return;\n",
              "\n",
              "          const docLinkHtml = 'Like what you see? Visit the ' +\n",
              "            '<a target=\"_blank\" href=https://colab.research.google.com/notebooks/data_table.ipynb>data table notebook</a>'\n",
              "            + ' to learn more about interactive tables.';\n",
              "          element.innerHTML = '';\n",
              "          dataTable['output_type'] = 'display_data';\n",
              "          await google.colab.output.renderOutput(dataTable, element);\n",
              "          const docLink = document.createElement('div');\n",
              "          docLink.innerHTML = docLinkHtml;\n",
              "          element.appendChild(docLink);\n",
              "        }\n",
              "      </script>\n",
              "    </div>\n",
              "  </div>\n"
            ]
          },
          "metadata": {},
          "execution_count": 81
        }
      ]
    },
    {
      "cell_type": "code",
      "source": [
        "from sklearn import preprocessing\n",
        "le = preprocessing.LabelEncoder()\n",
        "df['Regions'] = digits\n",
        "df['Regions'] = le.fit_transform(df['Regions'])"
      ],
      "metadata": {
        "id": "NR8pGGPzjxK0"
      },
      "execution_count": 82,
      "outputs": []
    },
    {
      "cell_type": "code",
      "source": [
        "df.info()"
      ],
      "metadata": {
        "colab": {
          "base_uri": "https://localhost:8080/"
        },
        "id": "G799bPkAniVu",
        "outputId": "6db7b0bb-ab62-4200-8c7a-4e56abc3ad3d"
      },
      "execution_count": 83,
      "outputs": [
        {
          "output_type": "stream",
          "name": "stdout",
          "text": [
            "<class 'pandas.core.frame.DataFrame'>\n",
            "RangeIndex: 93 entries, 0 to 92\n",
            "Data columns (total 13 columns):\n",
            " #   Column     Non-Null Count  Dtype  \n",
            "---  ------     --------------  -----  \n",
            " 0   Regions    93 non-null     int64  \n",
            " 1   April      93 non-null     float64\n",
            " 2   August     93 non-null     float64\n",
            " 3   December   93 non-null     float64\n",
            " 4   February   93 non-null     float64\n",
            " 5   January    93 non-null     float64\n",
            " 6   July       93 non-null     float64\n",
            " 7   June       93 non-null     float64\n",
            " 8   March      93 non-null     float64\n",
            " 9   May        93 non-null     float64\n",
            " 10  November   93 non-null     float64\n",
            " 11  October    93 non-null     float64\n",
            " 12  September  93 non-null     float64\n",
            "dtypes: float64(12), int64(1)\n",
            "memory usage: 9.6 KB\n"
          ]
        }
      ]
    },
    {
      "cell_type": "code",
      "source": [
        "X = df.drop(columns = ['Regions'])\n",
        "y = df['Regions']"
      ],
      "metadata": {
        "id": "N3cyLp7znlG9"
      },
      "execution_count": 84,
      "outputs": []
    },
    {
      "cell_type": "code",
      "source": [
        "# # Creating the two dimensional 'Moons' dataset\n",
        "# X,y = make_moons(n_samples = 200, random_state = 100) # X = two dimensions, Y = label\n",
        "# print(X[:5,])"
      ],
      "metadata": {
        "id": "fmeBGMYrwj9I"
      },
      "execution_count": 85,
      "outputs": []
    },
    {
      "cell_type": "code",
      "source": [
        "feature_scaler = StandardScaler()\n",
        "X_scaled = feature_scaler.fit_transform(X)"
      ],
      "metadata": {
        "id": "Px8nfEUPoIFP"
      },
      "execution_count": 86,
      "outputs": []
    },
    {
      "cell_type": "code",
      "source": [
        "# # Implementing K Means Clustering\n",
        "# from sklearn.cluster import KMeans\n",
        "\n",
        "# kmeans = KMeans(n_clusters = 2)\n",
        "# kmeans.fit(X_scaled)\n",
        "# plt.figure(figsize = (8,6))\n",
        "# plt.scatter(X[:,0], X[:,1], c=kmeans.labels_, cmap='plasma')\n",
        "# plt.xlabel('X1')\n",
        "# plt.ylabel('X2')\n",
        "# plt.show()\n"
      ],
      "metadata": {
        "id": "6wAiO_57oq1R"
      },
      "execution_count": 87,
      "outputs": []
    },
    {
      "cell_type": "code",
      "source": [
        "# Select only the temperature columns for clustering\n",
        "X = df.drop(columns = ['Regions'])\n",
        "print(X)"
      ],
      "metadata": {
        "colab": {
          "base_uri": "https://localhost:8080/"
        },
        "id": "MW42Kjabx3Nr",
        "outputId": "08a6abfd-1599-42d9-8bec-5302ec05d7c2"
      },
      "execution_count": 88,
      "outputs": [
        {
          "output_type": "stream",
          "name": "stdout",
          "text": [
            "    April  August  December  February  January   July   June  March    May  \\\n",
            "0   12.29   19.03      5.95      2.93     5.35  20.84  18.54   6.87  13.82   \n",
            "1   13.35   21.57     11.12      9.29     8.57  21.50  20.76  10.78  15.26   \n",
            "2   17.99   25.19      8.72      6.64     9.09  26.38  26.19  12.22  20.92   \n",
            "3   11.99   20.20      6.69      3.90     6.18  21.09  18.29   7.61  13.31   \n",
            "4   12.08   23.63      7.48      7.42     5.65  23.73  21.63   8.61  16.06   \n",
            "..    ...     ...       ...       ...      ...    ...    ...    ...    ...   \n",
            "88  11.88   17.54     10.38      8.19     7.74  18.52  16.58   9.61  14.11   \n",
            "89  14.16   20.91     12.97     11.33    12.05  23.60  21.09  13.37  16.01   \n",
            "90  10.85   18.98      5.24      3.01     4.98  20.29  19.48   6.90  14.36   \n",
            "91  15.03   25.25      8.92      8.75     8.29  28.31  23.29  13.04  18.81   \n",
            "92  12.85   21.54     11.96      8.41    10.79  23.05  22.11  13.04  17.15   \n",
            "\n",
            "    November  October  September  \n",
            "0       7.47    11.92      15.93  \n",
            "1      12.62    16.51      19.75  \n",
            "2      11.48    19.51      22.47  \n",
            "3       8.32    11.90      16.58  \n",
            "4      10.44    14.59      21.68  \n",
            "..       ...      ...        ...  \n",
            "88     11.41    15.54      17.84  \n",
            "89     11.76    18.55      21.39  \n",
            "90      6.00    12.53      14.90  \n",
            "91     11.73    18.18      22.56  \n",
            "92     12.78    16.33      18.95  \n",
            "\n",
            "[93 rows x 12 columns]\n"
          ]
        }
      ]
    },
    {
      "cell_type": "code",
      "source": [
        "# Feature Scaling\n",
        "from sklearn.preprocessing import StandardScaler\n",
        "scaler = StandardScaler()\n",
        "X = scaler.fit_transform(X)\n"
      ],
      "metadata": {
        "id": "RzqJ5d3ry3fu"
      },
      "execution_count": 89,
      "outputs": []
    },
    {
      "cell_type": "code",
      "source": [
        "# Determine the optimal number of clusters (K) using the Elbow Method\n",
        "wcss = []\n",
        "for k in range(1, 11):\n",
        "    kmeans = KMeans(n_clusters=k, init='k-means++', random_state=42)\n",
        "    kmeans.fit(X)\n",
        "    wcss.append(kmeans.inertia_)"
      ],
      "metadata": {
        "id": "5CYaIuBazAOZ"
      },
      "execution_count": 90,
      "outputs": []
    },
    {
      "cell_type": "code",
      "source": [
        "# Plot the Elbow Method graph\n",
        "plt.figure(figsize=(8, 6))\n",
        "plt.plot(range(1, 11), wcss, marker='o')\n",
        "plt.xlabel('Number of Clusters (K)')\n",
        "plt.ylabel('Within-Cluster Sum of Squares (WCSS)')\n",
        "plt.title('Elbow Method for Optimal K')\n",
        "plt.grid()\n",
        "plt.show()\n"
      ],
      "metadata": {
        "colab": {
          "base_uri": "https://localhost:8080/",
          "height": 564
        },
        "id": "w_GJRvsEzK6D",
        "outputId": "b4abac1b-7f79-4fda-f05e-c61e8d225714"
      },
      "execution_count": 91,
      "outputs": [
        {
          "output_type": "display_data",
          "data": {
            "text/plain": [
              "<Figure size 800x600 with 1 Axes>"
            ],
            "image/png": "[encoded data removed]"
          },
          "metadata": {}
        }
      ]
    },
    {
      "cell_type": "code",
      "source": [
        "# From the graph, select the optimal K (number of clusters)\n",
        "# Let's say K = 3 for demonstration purposes\n",
        "\n",
        "# Apply K-Means clustering with K = 5\n",
        "kmeans = KMeans(n_clusters=5, init='k-means++', random_state=42)\n",
        "df['Cluster'] = kmeans.fit_predict(X)"
      ],
      "metadata": {
        "id": "bqAcPVLmzSJt"
      },
      "execution_count": 92,
      "outputs": []
    },
    {
      "cell_type": "code",
      "source": [
        "\n",
        "# Visualize the clustered regions\n",
        "plt.figure(figsize=(8, 6))\n",
        "for cluster_id in range(3):\n",
        "    cluster_data = df[df['Cluster'] == cluster_id]\n",
        "    plt.scatter(cluster_data.iloc[:, 1], cluster_data.iloc[:, 2], label=f'Cluster {cluster_id + 1}')\n",
        "\n",
        "plt.xlabel('Jan Temperature')\n",
        "plt.ylabel('Feb Temperature')\n",
        "plt.title('K-Means Clustering of French Regions')\n",
        "plt.legend()\n",
        "plt.grid()\n",
        "plt.show()"
      ],
      "metadata": {
        "colab": {
          "base_uri": "https://localhost:8080/",
          "height": 564
        },
        "id": "OFEatW7vzeOU",
        "outputId": "7858e85b-6c3f-444d-adcb-fc05ababc43d"
      },
      "execution_count": 93,
      "outputs": [
        {
          "output_type": "display_data",
          "data": {
            "text/plain": [
              "<Figure size 800x600 with 1 Axes>"
            ],
            "image/png": "[encoded data removed]"
          },
          "metadata": {}
        }
      ]
    },
    {
      "cell_type": "code",
      "source": [
        "# as there are 12 months we can apply PCA to bring 12 dimensions to just two and then make clusters\n",
        "# # Implementing PCA to visualize dataset\n",
        "pca = PCA(n_components = 2)\n",
        "pca.fit(X_scaled)\n",
        "x_pca = pca.transform(X_scaled)\n",
        "print(\"Variance explained by each of the n_components: \",pca.explained_variance_ratio_)\n",
        "print(\"Total variance explained by the n_components: \",sum(pca.explained_variance_ratio_))\n",
        "\n",
        "digits=list(df['Regions'])\n",
        "data = [go.Scatter(x=x_pca[:,0], y=x_pca[:,1], mode='markers',\n",
        "                    marker = dict(color= df['Regions'], colorscale='Rainbow', opacity=0.5),\n",
        "                                text=[f'digit: {a}' for a in digits],\n",
        "                                hoverinfo='text')]\n",
        "\n",
        "layout = go.Layout(title = 'Data with Original Labels', width = 500, height = 500,\n",
        "                    xaxis = dict(title='First Principal Component'),\n",
        "                    yaxis = dict(title='Second Principal Component'))\n",
        "fig = go.Figure(data=data, layout=layout)\n",
        "fig.show()\n"
      ],
      "metadata": {
        "colab": {
          "base_uri": "https://localhost:8080/",
          "height": 552
        },
        "id": "mOkOqNR12t3l",
        "outputId": "caebd46a-f84c-4c3e-e396-e2ef66abdd8c"
      },
      "execution_count": 99,
      "outputs": [
        {
          "output_type": "stream",
          "name": "stdout",
          "text": [
            "Variance explained by each of the n_components:  [0.63551772 0.23651075]\n",
            "Total variance explained by the n_components:  0.8720284679265535\n"
          ]
        },
        {
          "output_type": "display_data",
          "data": {
            "text/html": [
              "<html>\n",
              "<head><meta charset=\"utf-8\" /></head>\n",
              "<body>\n",
              "    <div>            <script src=\"https://cdnjs.cloudflare.com/ajax/libs/mathjax/2.7.5/MathJax.js?config=TeX-AMS-MML_SVG\"></script><script type=\"text/javascript\">if (window.MathJax && window.MathJax.Hub && window.MathJax.Hub.Config) {window.MathJax.Hub.Config({SVG: {font: \"STIX-Web\"}});}</script>                <script type=\"text/javascript\">window.PlotlyConfig = {MathJaxConfig: 'local'};</script>\n",
              "        <script src=\"https://cdn.plot.ly/plotly-2.18.2.min.js\"></script>                <div id=\"993b98f7-a40a-41b8-9341-39906bd2f105\" class=\"plotly-graph-div\" style=\"height:500px; width:500px;\"></div>            <script type=\"text/javascript\">                                    window.PLOTLYENV=window.PLOTLYENV || {};                                    if (document.getElementById(\"993b98f7-a40a-41b8-9341-39906bd2f105\")) {                    Plotly.newPlot(                        \"993b98f7-a40a-41b8-9341-39906bd2f105\",                        [{\"hoverinfo\":\"text\",\"marker\":{\"color\":[0,1,2,4,3,5,6,7,8,9,10,11,12,13,14,15,16,17,18,19,20,21,22,23,24,25,26,27,28,29,30,31,32,33,34,35,36,37,38,39,40,41,42,43,44,45,46,47,48,49,50,51,52,53,54,55,56,57,58,59,60,61,62,63,64,65,66,67,68,69,70,71,72,73,74,75,76,79,77,78,80,81,82,83,84,85,86,87,88,89,90,91,92],\"colorscale\":[[0.0,\"rgb(150,0,90)\"],[0.125,\"rgb(0,0,200)\"],[0.25,\"rgb(0,25,255)\"],[0.375,\"rgb(0,152,255)\"],[0.5,\"rgb(44,255,150)\"],[0.625,\"rgb(151,255,0)\"],[0.75,\"rgb(255,234,0)\"],[0.875,\"rgb(255,111,0)\"],[1.0,\"rgb(255,0,0)\"]],\"opacity\":0.5},\"mode\":\"markers\",\"text\":[\"digit: 0\",\"digit: 1\",\"digit: 2\",\"digit: 4\",\"digit: 3\",\"digit: 5\",\"digit: 6\",\"digit: 7\",\"digit: 8\",\"digit: 9\",\"digit: 10\",\"digit: 11\",\"digit: 12\",\"digit: 13\",\"digit: 14\",\"digit: 15\",\"digit: 16\",\"digit: 17\",\"digit: 18\",\"digit: 19\",\"digit: 20\",\"digit: 21\",\"digit: 22\",\"digit: 23\",\"digit: 24\",\"digit: 25\",\"digit: 26\",\"digit: 27\",\"digit: 28\",\"digit: 29\",\"digit: 30\",\"digit: 31\",\"digit: 32\",\"digit: 33\",\"digit: 34\",\"digit: 35\",\"digit: 36\",\"digit: 37\",\"digit: 38\",\"digit: 39\",\"digit: 40\",\"digit: 41\",\"digit: 42\",\"digit: 43\",\"digit: 44\",\"digit: 45\",\"digit: 46\",\"digit: 47\",\"digit: 48\",\"digit: 49\",\"digit: 50\",\"digit: 51\",\"digit: 52\",\"digit: 53\",\"digit: 54\",\"digit: 55\",\"digit: 56\",\"digit: 57\",\"digit: 58\",\"digit: 59\",\"digit: 60\",\"digit: 61\",\"digit: 62\",\"digit: 63\",\"digit: 64\",\"digit: 65\",\"digit: 66\",\"digit: 67\",\"digit: 68\",\"digit: 69\",\"digit: 70\",\"digit: 71\",\"digit: 72\",\"digit: 73\",\"digit: 74\",\"digit: 75\",\"digit: 76\",\"digit: 79\",\"digit: 77\",\"digit: 78\",\"digit: 80\",\"digit: 81\",\"digit: 82\",\"digit: 83\",\"digit: 84\",\"digit: 85\",\"digit: 86\",\"digit: 87\",\"digit: 88\",\"digit: 89\",\"digit: 90\",\"digit: 91\",\"digit: 92\"],\"x\":[-4.475761789870454,1.066846262329865,4.520381659531034,-3.831167841575855,-0.35646745198166274,-1.2603743193429484,3.600898562273734,-4.6147912282928845,4.091597064204058,1.2717607789277743,-3.9452513527937407,4.00754347394623,-0.7272783046589618,-1.841922173750969,-4.943775401125235,1.798444061639807,-2.4344183361806437,0.4870671782781805,0.5335484579844051,2.6334572579203464,0.15543781097276263,3.071303566799818,0.8800812811877616,2.022918287780063,-3.3125450714000824,-1.6768582253955204,0.26347323174642023,-2.0123326408074296,0.9862180040281034,-1.7840655293694128,-0.28371618820678374,2.318704525980039,-1.2480363232420104,4.590760636926481,-3.911245868638712,-4.199869955869527,4.279563143074728,3.195482141633053,-3.577933399542529,0.39103045010036613,-4.672674250210635,-5.25309440046202,2.151559145817941,-0.6479068867315764,-1.648518280535479,0.9854371558078059,2.7198438049819966,-2.9407326080191267,-2.178336651684286,0.7947967432787764,3.5507828013688756,-2.5638303270057317,1.9580148426311408,0.12071239047935796,0.360302808918176,-3.839758194830973,1.0874138806225309,-1.5733109033015222,2.5079664398936687,-0.692193731277549,3.542989612076881,3.8167404182358333,-2.4278599711889153,3.2468768368280547,3.8643705229297995,0.19396463969167801,1.3849446323175731,-2.770442111136498,1.1619811905993072,-0.7616117608011722,-2.811093548362099,-1.5298220363080919,-0.8861716128529347,3.0365846511478183,5.575038948817049,3.4733227421193424,-2.3968443061325275,0.7365452189461366,-1.6218039458012865,0.1303239532794956,-2.3752203978785063,-3.5505475716706703,2.479551929099895,-3.553965081594333,0.89851938058515,4.092431676631096,-0.1839294516041544,-1.2726727421544277,-1.614864222607327,3.3302643292498755,-4.970326807095595,3.7168164724665087,2.090728197206004],\"y\":[-1.634579481106542,1.1885109344553133,-2.599654429323195,-1.0857548212455272,-1.7077023869796304,-1.7057092149270796,-1.5046597787995644,-1.2049443546670533,-1.8307446128163372,-0.9417134030069395,-1.3604549773479373,-1.9327159372481246,-1.5292848385362539,2.0588145473063677,-1.5532715432479176,0.7715077419016806,1.8217010573613368,1.167299006482437,0.896240102850171,-2.088341284935428,2.6590301073291416,1.9364939379481119,1.1002501704510745,1.0673832851682108,-1.6340279977152923,-1.9397624258897006,0.8291007286202853,1.9560892975098514,1.311858439484974,2.2707170913679082,-0.894904437010949,1.187293192866378,1.9405112623326355,-2.095964568273541,-1.8214395853333574,-2.0289416260217776,-2.005938301151466,-1.7448467134372343,-1.7810084664370052,0.8942550796638377,-1.6609456045636473,-2.065186868033626,0.48197254134034884,-1.6216198166084137,2.0706964069099425,1.2400934444353855,0.15926890001913732,-1.968991438055125,1.9467883848115175,0.8860245254394993,-1.973571135009547,2.016296230803765,1.3880155399567866,0.7697805831859319,0.9689350741895397,-1.2879999756077494,0.6675131717833503,1.8356641473673247,-2.0305156287327817,2.8461674531982832,-1.612877828453513,-1.6456060405427886,1.9184641036335102,-1.7208056250726567,-1.4242536709476314,2.3729328506004115,1.4970601339388456,1.8912515922531812,1.1267983109748179,2.0831422189288715,-1.4117197236505434,2.5889881128698864,-1.3366212724698237,-2.153724963732584,-1.1062975834997288,0.968273735317807,-1.8094952351130746,1.0899326112303571,2.7287272791403927,1.1169501044636296,2.244115387294269,-1.0043688897380854,1.1190239726940927,-1.4998148317807232,1.3567810332945518,2.201534008187536,-1.3510721845996312,-1.5224873353603194,2.2235244793971005,2.287392148697983,-1.933972755710377,-1.629720624845558,1.2488697481280087],\"type\":\"scatter\"}],                        {\"height\":500,\"title\":{\"text\":\"Data with Original Labels\"},\"width\":500,\"xaxis\":{\"title\":{\"text\":\"First Principal Component\"}},\"yaxis\":{\"title\":{\"text\":\"Second Principal Component\"}},\"template\":{\"data\":{\"histogram2dcontour\":[{\"type\":\"histogram2dcontour\",\"colorbar\":{\"outlinewidth\":0,\"ticks\":\"\"},\"colorscale\":[[0.0,\"#0d0887\"],[0.1111111111111111,\"#46039f\"],[0.2222222222222222,\"#7201a8\"],[0.3333333333333333,\"#9c179e\"],[0.4444444444444444,\"#bd3786\"],[0.5555555555555556,\"#d8576b\"],[0.6666666666666666,\"#ed7953\"],[0.7777777777777778,\"#fb9f3a\"],[0.8888888888888888,\"#fdca26\"],[1.0,\"#f0f921\"]]}],\"choropleth\":[{\"type\":\"choropleth\",\"colorbar\":{\"outlinewidth\":0,\"ticks\":\"\"}}],\"histogram2d\":[{\"type\":\"histogram2d\",\"colorbar\":{\"outlinewidth\":0,\"ticks\":\"\"},\"colorscale\":[[0.0,\"#0d0887\"],[0.1111111111111111,\"#46039f\"],[0.2222222222222222,\"#7201a8\"],[0.3333333333333333,\"#9c179e\"],[0.4444444444444444,\"#bd3786\"],[0.5555555555555556,\"#d8576b\"],[0.6666666666666666,\"#ed7953\"],[0.7777777777777778,\"#fb9f3a\"],[0.8888888888888888,\"#fdca26\"],[1.0,\"#f0f921\"]]}],\"heatmap\":[{\"type\":\"heatmap\",\"colorbar\":{\"outlinewidth\":0,\"ticks\":\"\"},\"colorscale\":[[0.0,\"#0d0887\"],[0.1111111111111111,\"#46039f\"],[0.2222222222222222,\"#7201a8\"],[0.3333333333333333,\"#9c179e\"],[0.4444444444444444,\"#bd3786\"],[0.5555555555555556,\"#d8576b\"],[0.6666666666666666,\"#ed7953\"],[0.7777777777777778,\"#fb9f3a\"],[0.8888888888888888,\"#fdca26\"],[1.0,\"#f0f921\"]]}],\"heatmapgl\":[{\"type\":\"heatmapgl\",\"colorbar\":{\"outlinewidth\":0,\"ticks\":\"\"},\"colorscale\":[[0.0,\"#0d0887\"],[0.1111111111111111,\"#46039f\"],[0.2222222222222222,\"#7201a8\"],[0.3333333333333333,\"#9c179e\"],[0.4444444444444444,\"#bd3786\"],[0.5555555555555556,\"#d8576b\"],[0.6666666666666666,\"#ed7953\"],[0.7777777777777778,\"#fb9f3a\"],[0.8888888888888888,\"#fdca26\"],[1.0,\"#f0f921\"]]}],\"contourcarpet\":[{\"type\":\"contourcarpet\",\"colorbar\":{\"outlinewidth\":0,\"ticks\":\"\"}}],\"contour\":[{\"type\":\"contour\",\"colorbar\":{\"outlinewidth\":0,\"ticks\":\"\"},\"colorscale\":[[0.0,\"#0d0887\"],[0.1111111111111111,\"#46039f\"],[0.2222222222222222,\"#7201a8\"],[0.3333333333333333,\"#9c179e\"],[0.4444444444444444,\"#bd3786\"],[0.5555555555555556,\"#d8576b\"],[0.6666666666666666,\"#ed7953\"],[0.7777777777777778,\"#fb9f3a\"],[0.8888888888888888,\"#fdca26\"],[1.0,\"#f0f921\"]]}],\"surface\":[{\"type\":\"surface\",\"colorbar\":{\"outlinewidth\":0,\"ticks\":\"\"},\"colorscale\":[[0.0,\"#0d0887\"],[0.1111111111111111,\"#46039f\"],[0.2222222222222222,\"#7201a8\"],[0.3333333333333333,\"#9c179e\"],[0.4444444444444444,\"#bd3786\"],[0.5555555555555556,\"#d8576b\"],[0.6666666666666666,\"#ed7953\"],[0.7777777777777778,\"#fb9f3a\"],[0.8888888888888888,\"#fdca26\"],[1.0,\"#f0f921\"]]}],\"mesh3d\":[{\"type\":\"mesh3d\",\"colorbar\":{\"outlinewidth\":0,\"ticks\":\"\"}}],\"scatter\":[{\"fillpattern\":{\"fillmode\":\"overlay\",\"size\":10,\"solidity\":0.2},\"type\":\"scatter\"}],\"parcoords\":[{\"type\":\"parcoords\",\"line\":{\"colorbar\":{\"outlinewidth\":0,\"ticks\":\"\"}}}],\"scatterpolargl\":[{\"type\":\"scatterpolargl\",\"marker\":{\"colorbar\":{\"outlinewidth\":0,\"ticks\":\"\"}}}],\"bar\":[{\"error_x\":{\"color\":\"#2a3f5f\"},\"error_y\":{\"color\":\"#2a3f5f\"},\"marker\":{\"line\":{\"color\":\"#E5ECF6\",\"width\":0.5},\"pattern\":{\"fillmode\":\"overlay\",\"size\":10,\"solidity\":0.2}},\"type\":\"bar\"}],\"scattergeo\":[{\"type\":\"scattergeo\",\"marker\":{\"colorbar\":{\"outlinewidth\":0,\"ticks\":\"\"}}}],\"scatterpolar\":[{\"type\":\"scatterpolar\",\"marker\":{\"colorbar\":{\"outlinewidth\":0,\"ticks\":\"\"}}}],\"histogram\":[{\"marker\":{\"pattern\":{\"fillmode\":\"overlay\",\"size\":10,\"solidity\":0.2}},\"type\":\"histogram\"}],\"scattergl\":[{\"type\":\"scattergl\",\"marker\":{\"colorbar\":{\"outlinewidth\":0,\"ticks\":\"\"}}}],\"scatter3d\":[{\"type\":\"scatter3d\",\"line\":{\"colorbar\":{\"outlinewidth\":0,\"ticks\":\"\"}},\"marker\":{\"colorbar\":{\"outlinewidth\":0,\"ticks\":\"\"}}}],\"scattermapbox\":[{\"type\":\"scattermapbox\",\"marker\":{\"colorbar\":{\"outlinewidth\":0,\"ticks\":\"\"}}}],\"scatterternary\":[{\"type\":\"scatterternary\",\"marker\":{\"colorbar\":{\"outlinewidth\":0,\"ticks\":\"\"}}}],\"scattercarpet\":[{\"type\":\"scattercarpet\",\"marker\":{\"colorbar\":{\"outlinewidth\":0,\"ticks\":\"\"}}}],\"carpet\":[{\"aaxis\":{\"endlinecolor\":\"#2a3f5f\",\"gridcolor\":\"white\",\"linecolor\":\"white\",\"minorgridcolor\":\"white\",\"startlinecolor\":\"#2a3f5f\"},\"baxis\":{\"endlinecolor\":\"#2a3f5f\",\"gridcolor\":\"white\",\"linecolor\":\"white\",\"minorgridcolor\":\"white\",\"startlinecolor\":\"#2a3f5f\"},\"type\":\"carpet\"}],\"table\":[{\"cells\":{\"fill\":{\"color\":\"#EBF0F8\"},\"line\":{\"color\":\"white\"}},\"header\":{\"fill\":{\"color\":\"#C8D4E3\"},\"line\":{\"color\":\"white\"}},\"type\":\"table\"}],\"barpolar\":[{\"marker\":{\"line\":{\"color\":\"#E5ECF6\",\"width\":0.5},\"pattern\":{\"fillmode\":\"overlay\",\"size\":10,\"solidity\":0.2}},\"type\":\"barpolar\"}],\"pie\":[{\"automargin\":true,\"type\":\"pie\"}]},\"layout\":{\"autotypenumbers\":\"strict\",\"colorway\":[\"#636efa\",\"#EF553B\",\"#00cc96\",\"#ab63fa\",\"#FFA15A\",\"#19d3f3\",\"#FF6692\",\"#B6E880\",\"#FF97FF\",\"#FECB52\"],\"font\":{\"color\":\"#2a3f5f\"},\"hovermode\":\"closest\",\"hoverlabel\":{\"align\":\"left\"},\"paper_bgcolor\":\"white\",\"plot_bgcolor\":\"#E5ECF6\",\"polar\":{\"bgcolor\":\"#E5ECF6\",\"angularaxis\":{\"gridcolor\":\"white\",\"linecolor\":\"white\",\"ticks\":\"\"},\"radialaxis\":{\"gridcolor\":\"white\",\"linecolor\":\"white\",\"ticks\":\"\"}},\"ternary\":{\"bgcolor\":\"#E5ECF6\",\"aaxis\":{\"gridcolor\":\"white\",\"linecolor\":\"white\",\"ticks\":\"\"},\"baxis\":{\"gridcolor\":\"white\",\"linecolor\":\"white\",\"ticks\":\"\"},\"caxis\":{\"gridcolor\":\"white\",\"linecolor\":\"white\",\"ticks\":\"\"}},\"coloraxis\":{\"colorbar\":{\"outlinewidth\":0,\"ticks\":\"\"}},\"colorscale\":{\"sequential\":[[0.0,\"#0d0887\"],[0.1111111111111111,\"#46039f\"],[0.2222222222222222,\"#7201a8\"],[0.3333333333333333,\"#9c179e\"],[0.4444444444444444,\"#bd3786\"],[0.5555555555555556,\"#d8576b\"],[0.6666666666666666,\"#ed7953\"],[0.7777777777777778,\"#fb9f3a\"],[0.8888888888888888,\"#fdca26\"],[1.0,\"#f0f921\"]],\"sequentialminus\":[[0.0,\"#0d0887\"],[0.1111111111111111,\"#46039f\"],[0.2222222222222222,\"#7201a8\"],[0.3333333333333333,\"#9c179e\"],[0.4444444444444444,\"#bd3786\"],[0.5555555555555556,\"#d8576b\"],[0.6666666666666666,\"#ed7953\"],[0.7777777777777778,\"#fb9f3a\"],[0.8888888888888888,\"#fdca26\"],[1.0,\"#f0f921\"]],\"diverging\":[[0,\"#8e0152\"],[0.1,\"#c51b7d\"],[0.2,\"#de77ae\"],[0.3,\"#f1b6da\"],[0.4,\"#fde0ef\"],[0.5,\"#f7f7f7\"],[0.6,\"#e6f5d0\"],[0.7,\"#b8e186\"],[0.8,\"#7fbc41\"],[0.9,\"#4d9221\"],[1,\"#276419\"]]},\"xaxis\":{\"gridcolor\":\"white\",\"linecolor\":\"white\",\"ticks\":\"\",\"title\":{\"standoff\":15},\"zerolinecolor\":\"white\",\"automargin\":true,\"zerolinewidth\":2},\"yaxis\":{\"gridcolor\":\"white\",\"linecolor\":\"white\",\"ticks\":\"\",\"title\":{\"standoff\":15},\"zerolinecolor\":\"white\",\"automargin\":true,\"zerolinewidth\":2},\"scene\":{\"xaxis\":{\"backgroundcolor\":\"#E5ECF6\",\"gridcolor\":\"white\",\"linecolor\":\"white\",\"showbackground\":true,\"ticks\":\"\",\"zerolinecolor\":\"white\",\"gridwidth\":2},\"yaxis\":{\"backgroundcolor\":\"#E5ECF6\",\"gridcolor\":\"white\",\"linecolor\":\"white\",\"showbackground\":true,\"ticks\":\"\",\"zerolinecolor\":\"white\",\"gridwidth\":2},\"zaxis\":{\"backgroundcolor\":\"#E5ECF6\",\"gridcolor\":\"white\",\"linecolor\":\"white\",\"showbackground\":true,\"ticks\":\"\",\"zerolinecolor\":\"white\",\"gridwidth\":2}},\"shapedefaults\":{\"line\":{\"color\":\"#2a3f5f\"}},\"annotationdefaults\":{\"arrowcolor\":\"#2a3f5f\",\"arrowhead\":0,\"arrowwidth\":1},\"geo\":{\"bgcolor\":\"white\",\"landcolor\":\"#E5ECF6\",\"subunitcolor\":\"white\",\"showland\":true,\"showlakes\":true,\"lakecolor\":\"white\"},\"title\":{\"x\":0.05},\"mapbox\":{\"style\":\"light\"}}}},                        {\"responsive\": true}                    ).then(function(){\n",
              "                            \n",
              "var gd = document.getElementById('993b98f7-a40a-41b8-9341-39906bd2f105');\n",
              "var x = new MutationObserver(function (mutations, observer) {{\n",
              "        var display = window.getComputedStyle(gd).display;\n",
              "        if (!display || display === 'none') {{\n",
              "            console.log([gd, 'removed!']);\n",
              "            Plotly.purge(gd);\n",
              "            observer.disconnect();\n",
              "        }}\n",
              "}});\n",
              "\n",
              "// Listen for the removal of the full notebook cells\n",
              "var notebookContainer = gd.closest('#notebook-container');\n",
              "if (notebookContainer) {{\n",
              "    x.observe(notebookContainer, {childList: true});\n",
              "}}\n",
              "\n",
              "// Listen for the clearing of the current output cell\n",
              "var outputEl = gd.closest('.output');\n",
              "if (outputEl) {{\n",
              "    x.observe(outputEl, {childList: true});\n",
              "}}\n",
              "\n",
              "                        })                };                            </script>        </div>\n",
              "</body>\n",
              "</html>"
            ]
          },
          "metadata": {}
        }
      ]
    },
    {
      "cell_type": "code",
      "source": [
        "# Implementing K-Means CLustering on dataset and visualizing clusters\n",
        "kmeans = KMeans(n_clusters = 3)\n",
        "kmeans.fit(x_pca)\n",
        "labels=list(kmeans.labels_)\n",
        "data = [go.Scatter(x=x_pca[:,0], y=x_pca[:,1], mode='markers',\n",
        "                    marker = dict(color=kmeans.labels_, colorscale='Rainbow', opacity=0.5),\n",
        "                                text=[f'label: {a}' for a in labels],\n",
        "                                hoverinfo='text')]\n",
        "\n",
        "layout = go.Layout(title = 'Data with KMeans Labels', width = 500, height = 500,\n",
        "                    xaxis = dict(title='First Principal Component'),\n",
        "                    yaxis = dict(title='Second Principal Component'))\n",
        "fig = go.Figure(data=data, layout=layout)\n",
        "fig.show()\n"
      ],
      "metadata": {
        "colab": {
          "base_uri": "https://localhost:8080/",
          "height": 517
        },
        "id": "6XeW2coo30t2",
        "outputId": "1c99d047-dd9b-4286-86b9-f713869cc4b6"
      },
      "execution_count": 95,
      "outputs": [
        {
          "output_type": "display_data",
          "data": {
            "text/html": [
              "<html>\n",
              "<head><meta charset=\"utf-8\" /></head>\n",
              "<body>\n",
              "    <div>            <script src=\"https://cdnjs.cloudflare.com/ajax/libs/mathjax/2.7.5/MathJax.js?config=TeX-AMS-MML_SVG\"></script><script type=\"text/javascript\">if (window.MathJax && window.MathJax.Hub && window.MathJax.Hub.Config) {window.MathJax.Hub.Config({SVG: {font: \"STIX-Web\"}});}</script>                <script type=\"text/javascript\">window.PlotlyConfig = {MathJaxConfig: 'local'};</script>\n",
              "        <script src=\"https://cdn.plot.ly/plotly-2.18.2.min.js\"></script>                <div id=\"fdfa055e-3ec5-4ba6-8b04-0434d6dee2ca\" class=\"plotly-graph-div\" style=\"height:500px; width:500px;\"></div>            <script type=\"text/javascript\">                                    window.PLOTLYENV=window.PLOTLYENV || {};                                    if (document.getElementById(\"fdfa055e-3ec5-4ba6-8b04-0434d6dee2ca\")) {                    Plotly.newPlot(                        \"fdfa055e-3ec5-4ba6-8b04-0434d6dee2ca\",                        [{\"hoverinfo\":\"text\",\"marker\":{\"color\":[1,2,0,1,1,1,0,1,0,0,1,0,1,2,1,0,2,2,2,0,2,0,2,0,1,1,2,2,2,2,2,0,2,0,1,1,0,0,1,2,1,1,0,1,2,2,0,1,2,2,0,2,0,2,2,1,2,2,0,2,0,0,2,0,0,2,2,2,2,2,1,2,1,0,0,0,1,2,2,2,2,1,0,1,2,0,1,1,2,0,1,0,0],\"colorscale\":[[0.0,\"rgb(150,0,90)\"],[0.125,\"rgb(0,0,200)\"],[0.25,\"rgb(0,25,255)\"],[0.375,\"rgb(0,152,255)\"],[0.5,\"rgb(44,255,150)\"],[0.625,\"rgb(151,255,0)\"],[0.75,\"rgb(255,234,0)\"],[0.875,\"rgb(255,111,0)\"],[1.0,\"rgb(255,0,0)\"]],\"opacity\":0.5},\"mode\":\"markers\",\"text\":[\"label: 1\",\"label: 2\",\"label: 0\",\"label: 1\",\"label: 1\",\"label: 1\",\"label: 0\",\"label: 1\",\"label: 0\",\"label: 0\",\"label: 1\",\"label: 0\",\"label: 1\",\"label: 2\",\"label: 1\",\"label: 0\",\"label: 2\",\"label: 2\",\"label: 2\",\"label: 0\",\"label: 2\",\"label: 0\",\"label: 2\",\"label: 0\",\"label: 1\",\"label: 1\",\"label: 2\",\"label: 2\",\"label: 2\",\"label: 2\",\"label: 2\",\"label: 0\",\"label: 2\",\"label: 0\",\"label: 1\",\"label: 1\",\"label: 0\",\"label: 0\",\"label: 1\",\"label: 2\",\"label: 1\",\"label: 1\",\"label: 0\",\"label: 1\",\"label: 2\",\"label: 2\",\"label: 0\",\"label: 1\",\"label: 2\",\"label: 2\",\"label: 0\",\"label: 2\",\"label: 0\",\"label: 2\",\"label: 2\",\"label: 1\",\"label: 2\",\"label: 2\",\"label: 0\",\"label: 2\",\"label: 0\",\"label: 0\",\"label: 2\",\"label: 0\",\"label: 0\",\"label: 2\",\"label: 2\",\"label: 2\",\"label: 2\",\"label: 2\",\"label: 1\",\"label: 2\",\"label: 1\",\"label: 0\",\"label: 0\",\"label: 0\",\"label: 1\",\"label: 2\",\"label: 2\",\"label: 2\",\"label: 2\",\"label: 1\",\"label: 0\",\"label: 1\",\"label: 2\",\"label: 0\",\"label: 1\",\"label: 1\",\"label: 2\",\"label: 0\",\"label: 1\",\"label: 0\",\"label: 0\"],\"x\":[-4.475761789870454,1.066846262329865,4.520381659531034,-3.831167841575855,-0.35646745198166274,-1.2603743193429484,3.600898562273734,-4.6147912282928845,4.091597064204058,1.2717607789277743,-3.9452513527937407,4.00754347394623,-0.7272783046589618,-1.841922173750969,-4.943775401125235,1.798444061639807,-2.4344183361806437,0.4870671782781805,0.5335484579844051,2.6334572579203464,0.15543781097276263,3.071303566799818,0.8800812811877616,2.022918287780063,-3.3125450714000824,-1.6768582253955204,0.26347323174642023,-2.0123326408074296,0.9862180040281034,-1.7840655293694128,-0.28371618820678374,2.318704525980039,-1.2480363232420104,4.590760636926481,-3.911245868638712,-4.199869955869527,4.279563143074728,3.195482141633053,-3.577933399542529,0.39103045010036613,-4.672674250210635,-5.25309440046202,2.151559145817941,-0.6479068867315764,-1.648518280535479,0.9854371558078059,2.7198438049819966,-2.9407326080191267,-2.178336651684286,0.7947967432787764,3.5507828013688756,-2.5638303270057317,1.9580148426311408,0.12071239047935796,0.360302808918176,-3.839758194830973,1.0874138806225309,-1.5733109033015222,2.5079664398936687,-0.692193731277549,3.542989612076881,3.8167404182358333,-2.4278599711889153,3.2468768368280547,3.8643705229297995,0.19396463969167801,1.3849446323175731,-2.770442111136498,1.1619811905993072,-0.7616117608011722,-2.811093548362099,-1.5298220363080919,-0.8861716128529347,3.0365846511478183,5.575038948817049,3.4733227421193424,-2.3968443061325275,0.7365452189461366,-1.6218039458012865,0.1303239532794956,-2.3752203978785063,-3.5505475716706703,2.479551929099895,-3.553965081594333,0.89851938058515,4.092431676631096,-0.1839294516041544,-1.2726727421544277,-1.614864222607327,3.3302643292498755,-4.970326807095595,3.7168164724665087,2.090728197206004],\"y\":[-1.634579481106542,1.1885109344553133,-2.599654429323195,-1.0857548212455272,-1.7077023869796304,-1.7057092149270796,-1.5046597787995644,-1.2049443546670533,-1.8307446128163372,-0.9417134030069395,-1.3604549773479373,-1.9327159372481246,-1.5292848385362539,2.0588145473063677,-1.5532715432479176,0.7715077419016806,1.8217010573613368,1.167299006482437,0.896240102850171,-2.088341284935428,2.6590301073291416,1.9364939379481119,1.1002501704510745,1.0673832851682108,-1.6340279977152923,-1.9397624258897006,0.8291007286202853,1.9560892975098514,1.311858439484974,2.2707170913679082,-0.894904437010949,1.187293192866378,1.9405112623326355,-2.095964568273541,-1.8214395853333574,-2.0289416260217776,-2.005938301151466,-1.7448467134372343,-1.7810084664370052,0.8942550796638377,-1.6609456045636473,-2.065186868033626,0.48197254134034884,-1.6216198166084137,2.0706964069099425,1.2400934444353855,0.15926890001913732,-1.968991438055125,1.9467883848115175,0.8860245254394993,-1.973571135009547,2.016296230803765,1.3880155399567866,0.7697805831859319,0.9689350741895397,-1.2879999756077494,0.6675131717833503,1.8356641473673247,-2.0305156287327817,2.8461674531982832,-1.612877828453513,-1.6456060405427886,1.9184641036335102,-1.7208056250726567,-1.4242536709476314,2.3729328506004115,1.4970601339388456,1.8912515922531812,1.1267983109748179,2.0831422189288715,-1.4117197236505434,2.5889881128698864,-1.3366212724698237,-2.153724963732584,-1.1062975834997288,0.968273735317807,-1.8094952351130746,1.0899326112303571,2.7287272791403927,1.1169501044636296,2.244115387294269,-1.0043688897380854,1.1190239726940927,-1.4998148317807232,1.3567810332945518,2.201534008187536,-1.3510721845996312,-1.5224873353603194,2.2235244793971005,2.287392148697983,-1.933972755710377,-1.629720624845558,1.2488697481280087],\"type\":\"scatter\"}],                        {\"height\":500,\"title\":{\"text\":\"Data with KMeans Labels\"},\"width\":500,\"xaxis\":{\"title\":{\"text\":\"First Principal Component\"}},\"yaxis\":{\"title\":{\"text\":\"Second Principal Component\"}},\"template\":{\"data\":{\"histogram2dcontour\":[{\"type\":\"histogram2dcontour\",\"colorbar\":{\"outlinewidth\":0,\"ticks\":\"\"},\"colorscale\":[[0.0,\"#0d0887\"],[0.1111111111111111,\"#46039f\"],[0.2222222222222222,\"#7201a8\"],[0.3333333333333333,\"#9c179e\"],[0.4444444444444444,\"#bd3786\"],[0.5555555555555556,\"#d8576b\"],[0.6666666666666666,\"#ed7953\"],[0.7777777777777778,\"#fb9f3a\"],[0.8888888888888888,\"#fdca26\"],[1.0,\"#f0f921\"]]}],\"choropleth\":[{\"type\":\"choropleth\",\"colorbar\":{\"outlinewidth\":0,\"ticks\":\"\"}}],\"histogram2d\":[{\"type\":\"histogram2d\",\"colorbar\":{\"outlinewidth\":0,\"ticks\":\"\"},\"colorscale\":[[0.0,\"#0d0887\"],[0.1111111111111111,\"#46039f\"],[0.2222222222222222,\"#7201a8\"],[0.3333333333333333,\"#9c179e\"],[0.4444444444444444,\"#bd3786\"],[0.5555555555555556,\"#d8576b\"],[0.6666666666666666,\"#ed7953\"],[0.7777777777777778,\"#fb9f3a\"],[0.8888888888888888,\"#fdca26\"],[1.0,\"#f0f921\"]]}],\"heatmap\":[{\"type\":\"heatmap\",\"colorbar\":{\"outlinewidth\":0,\"ticks\":\"\"},\"colorscale\":[[0.0,\"#0d0887\"],[0.1111111111111111,\"#46039f\"],[0.2222222222222222,\"#7201a8\"],[0.3333333333333333,\"#9c179e\"],[0.4444444444444444,\"#bd3786\"],[0.5555555555555556,\"#d8576b\"],[0.6666666666666666,\"#ed7953\"],[0.7777777777777778,\"#fb9f3a\"],[0.8888888888888888,\"#fdca26\"],[1.0,\"#f0f921\"]]}],\"heatmapgl\":[{\"type\":\"heatmapgl\",\"colorbar\":{\"outlinewidth\":0,\"ticks\":\"\"},\"colorscale\":[[0.0,\"#0d0887\"],[0.1111111111111111,\"#46039f\"],[0.2222222222222222,\"#7201a8\"],[0.3333333333333333,\"#9c179e\"],[0.4444444444444444,\"#bd3786\"],[0.5555555555555556,\"#d8576b\"],[0.6666666666666666,\"#ed7953\"],[0.7777777777777778,\"#fb9f3a\"],[0.8888888888888888,\"#fdca26\"],[1.0,\"#f0f921\"]]}],\"contourcarpet\":[{\"type\":\"contourcarpet\",\"colorbar\":{\"outlinewidth\":0,\"ticks\":\"\"}}],\"contour\":[{\"type\":\"contour\",\"colorbar\":{\"outlinewidth\":0,\"ticks\":\"\"},\"colorscale\":[[0.0,\"#0d0887\"],[0.1111111111111111,\"#46039f\"],[0.2222222222222222,\"#7201a8\"],[0.3333333333333333,\"#9c179e\"],[0.4444444444444444,\"#bd3786\"],[0.5555555555555556,\"#d8576b\"],[0.6666666666666666,\"#ed7953\"],[0.7777777777777778,\"#fb9f3a\"],[0.8888888888888888,\"#fdca26\"],[1.0,\"#f0f921\"]]}],\"surface\":[{\"type\":\"surface\",\"colorbar\":{\"outlinewidth\":0,\"ticks\":\"\"},\"colorscale\":[[0.0,\"#0d0887\"],[0.1111111111111111,\"#46039f\"],[0.2222222222222222,\"#7201a8\"],[0.3333333333333333,\"#9c179e\"],[0.4444444444444444,\"#bd3786\"],[0.5555555555555556,\"#d8576b\"],[0.6666666666666666,\"#ed7953\"],[0.7777777777777778,\"#fb9f3a\"],[0.8888888888888888,\"#fdca26\"],[1.0,\"#f0f921\"]]}],\"mesh3d\":[{\"type\":\"mesh3d\",\"colorbar\":{\"outlinewidth\":0,\"ticks\":\"\"}}],\"scatter\":[{\"fillpattern\":{\"fillmode\":\"overlay\",\"size\":10,\"solidity\":0.2},\"type\":\"scatter\"}],\"parcoords\":[{\"type\":\"parcoords\",\"line\":{\"colorbar\":{\"outlinewidth\":0,\"ticks\":\"\"}}}],\"scatterpolargl\":[{\"type\":\"scatterpolargl\",\"marker\":{\"colorbar\":{\"outlinewidth\":0,\"ticks\":\"\"}}}],\"bar\":[{\"error_x\":{\"color\":\"#2a3f5f\"},\"error_y\":{\"color\":\"#2a3f5f\"},\"marker\":{\"line\":{\"color\":\"#E5ECF6\",\"width\":0.5},\"pattern\":{\"fillmode\":\"overlay\",\"size\":10,\"solidity\":0.2}},\"type\":\"bar\"}],\"scattergeo\":[{\"type\":\"scattergeo\",\"marker\":{\"colorbar\":{\"outlinewidth\":0,\"ticks\":\"\"}}}],\"scatterpolar\":[{\"type\":\"scatterpolar\",\"marker\":{\"colorbar\":{\"outlinewidth\":0,\"ticks\":\"\"}}}],\"histogram\":[{\"marker\":{\"pattern\":{\"fillmode\":\"overlay\",\"size\":10,\"solidity\":0.2}},\"type\":\"histogram\"}],\"scattergl\":[{\"type\":\"scattergl\",\"marker\":{\"colorbar\":{\"outlinewidth\":0,\"ticks\":\"\"}}}],\"scatter3d\":[{\"type\":\"scatter3d\",\"line\":{\"colorbar\":{\"outlinewidth\":0,\"ticks\":\"\"}},\"marker\":{\"colorbar\":{\"outlinewidth\":0,\"ticks\":\"\"}}}],\"scattermapbox\":[{\"type\":\"scattermapbox\",\"marker\":{\"colorbar\":{\"outlinewidth\":0,\"ticks\":\"\"}}}],\"scatterternary\":[{\"type\":\"scatterternary\",\"marker\":{\"colorbar\":{\"outlinewidth\":0,\"ticks\":\"\"}}}],\"scattercarpet\":[{\"type\":\"scattercarpet\",\"marker\":{\"colorbar\":{\"outlinewidth\":0,\"ticks\":\"\"}}}],\"carpet\":[{\"aaxis\":{\"endlinecolor\":\"#2a3f5f\",\"gridcolor\":\"white\",\"linecolor\":\"white\",\"minorgridcolor\":\"white\",\"startlinecolor\":\"#2a3f5f\"},\"baxis\":{\"endlinecolor\":\"#2a3f5f\",\"gridcolor\":\"white\",\"linecolor\":\"white\",\"minorgridcolor\":\"white\",\"startlinecolor\":\"#2a3f5f\"},\"type\":\"carpet\"}],\"table\":[{\"cells\":{\"fill\":{\"color\":\"#EBF0F8\"},\"line\":{\"color\":\"white\"}},\"header\":{\"fill\":{\"color\":\"#C8D4E3\"},\"line\":{\"color\":\"white\"}},\"type\":\"table\"}],\"barpolar\":[{\"marker\":{\"line\":{\"color\":\"#E5ECF6\",\"width\":0.5},\"pattern\":{\"fillmode\":\"overlay\",\"size\":10,\"solidity\":0.2}},\"type\":\"barpolar\"}],\"pie\":[{\"automargin\":true,\"type\":\"pie\"}]},\"layout\":{\"autotypenumbers\":\"strict\",\"colorway\":[\"#636efa\",\"#EF553B\",\"#00cc96\",\"#ab63fa\",\"#FFA15A\",\"#19d3f3\",\"#FF6692\",\"#B6E880\",\"#FF97FF\",\"#FECB52\"],\"font\":{\"color\":\"#2a3f5f\"},\"hovermode\":\"closest\",\"hoverlabel\":{\"align\":\"left\"},\"paper_bgcolor\":\"white\",\"plot_bgcolor\":\"#E5ECF6\",\"polar\":{\"bgcolor\":\"#E5ECF6\",\"angularaxis\":{\"gridcolor\":\"white\",\"linecolor\":\"white\",\"ticks\":\"\"},\"radialaxis\":{\"gridcolor\":\"white\",\"linecolor\":\"white\",\"ticks\":\"\"}},\"ternary\":{\"bgcolor\":\"#E5ECF6\",\"aaxis\":{\"gridcolor\":\"white\",\"linecolor\":\"white\",\"ticks\":\"\"},\"baxis\":{\"gridcolor\":\"white\",\"linecolor\":\"white\",\"ticks\":\"\"},\"caxis\":{\"gridcolor\":\"white\",\"linecolor\":\"white\",\"ticks\":\"\"}},\"coloraxis\":{\"colorbar\":{\"outlinewidth\":0,\"ticks\":\"\"}},\"colorscale\":{\"sequential\":[[0.0,\"#0d0887\"],[0.1111111111111111,\"#46039f\"],[0.2222222222222222,\"#7201a8\"],[0.3333333333333333,\"#9c179e\"],[0.4444444444444444,\"#bd3786\"],[0.5555555555555556,\"#d8576b\"],[0.6666666666666666,\"#ed7953\"],[0.7777777777777778,\"#fb9f3a\"],[0.8888888888888888,\"#fdca26\"],[1.0,\"#f0f921\"]],\"sequentialminus\":[[0.0,\"#0d0887\"],[0.1111111111111111,\"#46039f\"],[0.2222222222222222,\"#7201a8\"],[0.3333333333333333,\"#9c179e\"],[0.4444444444444444,\"#bd3786\"],[0.5555555555555556,\"#d8576b\"],[0.6666666666666666,\"#ed7953\"],[0.7777777777777778,\"#fb9f3a\"],[0.8888888888888888,\"#fdca26\"],[1.0,\"#f0f921\"]],\"diverging\":[[0,\"#8e0152\"],[0.1,\"#c51b7d\"],[0.2,\"#de77ae\"],[0.3,\"#f1b6da\"],[0.4,\"#fde0ef\"],[0.5,\"#f7f7f7\"],[0.6,\"#e6f5d0\"],[0.7,\"#b8e186\"],[0.8,\"#7fbc41\"],[0.9,\"#4d9221\"],[1,\"#276419\"]]},\"xaxis\":{\"gridcolor\":\"white\",\"linecolor\":\"white\",\"ticks\":\"\",\"title\":{\"standoff\":15},\"zerolinecolor\":\"white\",\"automargin\":true,\"zerolinewidth\":2},\"yaxis\":{\"gridcolor\":\"white\",\"linecolor\":\"white\",\"ticks\":\"\",\"title\":{\"standoff\":15},\"zerolinecolor\":\"white\",\"automargin\":true,\"zerolinewidth\":2},\"scene\":{\"xaxis\":{\"backgroundcolor\":\"#E5ECF6\",\"gridcolor\":\"white\",\"linecolor\":\"white\",\"showbackground\":true,\"ticks\":\"\",\"zerolinecolor\":\"white\",\"gridwidth\":2},\"yaxis\":{\"backgroundcolor\":\"#E5ECF6\",\"gridcolor\":\"white\",\"linecolor\":\"white\",\"showbackground\":true,\"ticks\":\"\",\"zerolinecolor\":\"white\",\"gridwidth\":2},\"zaxis\":{\"backgroundcolor\":\"#E5ECF6\",\"gridcolor\":\"white\",\"linecolor\":\"white\",\"showbackground\":true,\"ticks\":\"\",\"zerolinecolor\":\"white\",\"gridwidth\":2}},\"shapedefaults\":{\"line\":{\"color\":\"#2a3f5f\"}},\"annotationdefaults\":{\"arrowcolor\":\"#2a3f5f\",\"arrowhead\":0,\"arrowwidth\":1},\"geo\":{\"bgcolor\":\"white\",\"landcolor\":\"#E5ECF6\",\"subunitcolor\":\"white\",\"showland\":true,\"showlakes\":true,\"lakecolor\":\"white\"},\"title\":{\"x\":0.05},\"mapbox\":{\"style\":\"light\"}}}},                        {\"responsive\": true}                    ).then(function(){\n",
              "                            \n",
              "var gd = document.getElementById('fdfa055e-3ec5-4ba6-8b04-0434d6dee2ca');\n",
              "var x = new MutationObserver(function (mutations, observer) {{\n",
              "        var display = window.getComputedStyle(gd).display;\n",
              "        if (!display || display === 'none') {{\n",
              "            console.log([gd, 'removed!']);\n",
              "            Plotly.purge(gd);\n",
              "            observer.disconnect();\n",
              "        }}\n",
              "}});\n",
              "\n",
              "// Listen for the removal of the full notebook cells\n",
              "var notebookContainer = gd.closest('#notebook-container');\n",
              "if (notebookContainer) {{\n",
              "    x.observe(notebookContainer, {childList: true});\n",
              "}}\n",
              "\n",
              "// Listen for the clearing of the current output cell\n",
              "var outputEl = gd.closest('.output');\n",
              "if (outputEl) {{\n",
              "    x.observe(outputEl, {childList: true});\n",
              "}}\n",
              "\n",
              "                        })                };                            </script>        </div>\n",
              "</body>\n",
              "</html>"
            ]
          },
          "metadata": {}
        }
      ]
    },
    {
      "cell_type": "code",
      "source": [
        "# Finding the number of clusters (K) - Elbow Plot Method\n",
        "inertia = []\n",
        "for i in range(1,11):\n",
        "    kmeans = KMeans(n_clusters = i, random_state = 100)\n",
        "    kmeans.fit(x_pca)\n",
        "    inertia.append(kmeans.inertia_)\n",
        "\n",
        "plt.plot(range(1, 11), inertia)\n",
        "plt.title('The Elbow Plot')\n",
        "plt.xlabel('Number of clusters')\n",
        "plt.ylabel('Inertia')\n",
        "plt.show()"
      ],
      "metadata": {
        "colab": {
          "base_uri": "https://localhost:8080/",
          "height": 472
        },
        "id": "_PDvsBA_35yn",
        "outputId": "ce225004-d3f1-46b2-d664-fee16c21dc61"
      },
      "execution_count": 96,
      "outputs": [
        {
          "output_type": "display_data",
          "data": {
            "text/plain": [
              "<Figure size 640x480 with 1 Axes>"
            ],
            "image/png": "[encoded data removed]"
          },
          "metadata": {}
        }
      ]
    }
  ]
}